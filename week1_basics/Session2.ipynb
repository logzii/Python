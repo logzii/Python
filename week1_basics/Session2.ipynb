{
 "cells": [
  {
   "cell_type": "markdown",
   "id": "f50f1190-8365-44a6-ba47-f5d21f852bb7",
   "metadata": {},
   "source": [
    "## Operators in Python\n",
    "\n",
    "- Arithmetic Operators\n",
    "- Relational Operators\n",
    "- Logical Operators\n",
    "- Bitwise Operators\n",
    "- Assignment Operators\n",
    "- Membership Operators"
   ]
  },
  {
   "cell_type": "code",
   "execution_count": 4,
   "id": "5c107549-e66e-443e-9441-5ff58ce34dcc",
   "metadata": {},
   "outputs": [
    {
     "name": "stdout",
     "output_type": "stream",
     "text": [
      "11\n",
      "-1\n",
      "30\n",
      "2.5\n",
      "2\n",
      "1\n",
      "25\n"
     ]
    }
   ],
   "source": [
    "# Arithmetic operators\n",
    "print(5 + 6)\n",
    "print(5 - 6)\n",
    "print(5 * 6)\n",
    "print(5 / 2)\n",
    "print(5 // 2) # integer division\n",
    "print(5 % 2) # modulus i.e. gives the remainder\n",
    "print(5 ** 2) # exponential operator i.e. 5^2 = 25"
   ]
  },
  {
   "cell_type": "code",
   "execution_count": 5,
   "id": "301b5028-9134-4dd6-8996-4f4bf10bce77",
   "metadata": {},
   "outputs": [
    {
     "name": "stdout",
     "output_type": "stream",
     "text": [
      "False\n",
      "True\n",
      "True\n",
      "True\n",
      "True\n",
      "False\n"
     ]
    }
   ],
   "source": [
    "# Relational operators\n",
    "print(4 > 5)\n",
    "print(4 < 5)\n",
    "print(4 >= 4)\n",
    "print(4 <= 4)\n",
    "print(4 == 4)\n",
    "print(4 != 4)"
   ]
  },
  {
   "cell_type": "code",
   "execution_count": 7,
   "id": "d7567586-24ea-486a-9d78-a531b3c41ef0",
   "metadata": {},
   "outputs": [
    {
     "name": "stdout",
     "output_type": "stream",
     "text": [
      "0\n",
      "1\n",
      "False\n"
     ]
    }
   ],
   "source": [
    "# Logical operators\n",
    "print(1 and 0)\n",
    "print(1 or 0)\n",
    "print(not 1)"
   ]
  },
  {
   "cell_type": "code",
   "execution_count": 16,
   "id": "0a8d5771-bc68-4c07-aa3f-7c29eb8a08e3",
   "metadata": {},
   "outputs": [
    {
     "name": "stdout",
     "output_type": "stream",
     "text": [
      "2\n",
      "3\n",
      "1\n",
      "-4\n",
      "1\n",
      "16\n"
     ]
    }
   ],
   "source": [
    "# Bitwise operators\n",
    "\n",
    "# Bitwise AND\n",
    "print(2 & 3)\n",
    "\n",
    "# Bitwise OR\n",
    "print(2 | 3)\n",
    "\n",
    "# Bitwise XOR\n",
    "# if both the operands are same then it becomes zero i.e. false\n",
    "# 0 ^ 0 = 0 (false)\n",
    "# 1 ^ 1 = 0 (false)\n",
    "print(2 ^ 3)\n",
    "\n",
    "# Bitwise NOT\n",
    "print(~3)\n",
    "\n",
    "# Bitwise right shift\n",
    "print(4 >> 2)\n",
    "\n",
    "# Bitwise left shift\n",
    "print(4 << 2)"
   ]
  },
  {
   "cell_type": "code",
   "execution_count": 17,
   "id": "c7f51cd2-fc1c-4c54-8b89-49bbf3b093f7",
   "metadata": {},
   "outputs": [
    {
     "name": "stdout",
     "output_type": "stream",
     "text": [
      "0b10\n",
      "0b11\n",
      "0b100\n"
     ]
    }
   ],
   "source": [
    "# to check binary of decimal number\n",
    "print(bin(2))\n",
    "print(bin(3))\n",
    "print(bin(4))"
   ]
  },
  {
   "cell_type": "code",
   "execution_count": 18,
   "id": "6f5dec94-0110-4966-b002-1b603e16a8b5",
   "metadata": {},
   "outputs": [
    {
     "name": "stdout",
     "output_type": "stream",
     "text": [
      "4\n"
     ]
    }
   ],
   "source": [
    "# Assignment operator\n",
    "\n",
    "a = 2\n",
    "a += 2 # a = a + 2\n",
    "print(a)"
   ]
  },
  {
   "cell_type": "code",
   "execution_count": 21,
   "id": "d8f05abc-e0b1-43db-a4cc-0f62adbb5e99",
   "metadata": {},
   "outputs": [
    {
     "name": "stdout",
     "output_type": "stream",
     "text": [
      "True\n",
      "False\n"
     ]
    }
   ],
   "source": [
    "# Membership Operator\n",
    "\n",
    "# in/not in\n",
    "\n",
    "print('D' in 'Delhi')\n",
    "print('D' not in 'Delhi')"
   ]
  },
  {
   "cell_type": "code",
   "execution_count": 35,
   "id": "3a772813-b3a4-4dc5-a201-f49b9347b2fa",
   "metadata": {},
   "outputs": [
    {
     "name": "stdin",
     "output_type": "stream",
     "text": [
      "Enter the number:  712\n"
     ]
    },
    {
     "name": "stdout",
     "output_type": "stream",
     "text": [
      "Sum of three digit numbers =  10\n"
     ]
    }
   ],
   "source": [
    "# Program - Find the sum of a 3 digit number entered by the user\n",
    "\n",
    "# e.g. 123 , the sum = 1 + 2 + 3 = 6\n",
    "\n",
    "num = int(input(\"Enter the number: \"))\n",
    "last_digit = num % 10\n",
    "new_num = num // 10\n",
    "\n",
    "# print(last_digit, new_num)\n",
    "\n",
    "second_last_digit = new_num % 10\n",
    "new_num = new_num // 10\n",
    "\n",
    "# print(second_last_digit, new_num)\n",
    "\n",
    "first_digit = new_num % 10\n",
    "new_num = new_num // 10\n",
    "\n",
    "# print(first_digit, new_num)\n",
    "\n",
    "sum_three_digit_numbers = first_digit + second_last_digit + last_digit\n",
    "print(\"Sum of three digit numbers = \", sum_three_digit_numbers)"
   ]
  },
  {
   "cell_type": "markdown",
   "id": "1006d3b9-e4b6-48ec-ae70-3044345a5b59",
   "metadata": {},
   "source": [
    "## If-else"
   ]
  },
  {
   "cell_type": "code",
   "execution_count": 39,
   "id": "d412e8cc-dca2-43ce-8c36-db5f322faedd",
   "metadata": {},
   "outputs": [
    {
     "name": "stdin",
     "output_type": "stream",
     "text": [
      "Enter the username:  nitish.campusx@gmail.com\n",
      "Enter the password:  12345\n"
     ]
    },
    {
     "name": "stdout",
     "output_type": "stream",
     "text": [
      "You have entered wrong credentials.Try again!\n"
     ]
    }
   ],
   "source": [
    "# login program and indentation\n",
    "\n",
    "user_email = input(\"Enter the username: \")\n",
    "user_password = int(input(\"Enter the password: \"))\n",
    "\n",
    "email = 'nitish.campusx@gmail.com'\n",
    "password = 1234\n",
    "\n",
    "if user_email == email and user_password == password:\n",
    "    print(\"You have been logged in succesfully!\")\n",
    "else:\n",
    "    print(\"You have entered wrong credentials.Try again!\")"
   ]
  },
  {
   "cell_type": "code",
   "execution_count": 41,
   "id": "59ecff7c-0be2-49f8-9c64-f6968f5065dd",
   "metadata": {},
   "outputs": [
    {
     "name": "stdin",
     "output_type": "stream",
     "text": [
      "Enter the username:  nitish.campusx@gmail.com\n",
      "Enter the password:  12345\n"
     ]
    },
    {
     "name": "stdout",
     "output_type": "stream",
     "text": [
      "Incorrect password\n"
     ]
    },
    {
     "name": "stdin",
     "output_type": "stream",
     "text": [
      "Enter the password again 1234\n"
     ]
    },
    {
     "name": "stdout",
     "output_type": "stream",
     "text": [
      "Welcome, Finally!\n"
     ]
    }
   ],
   "source": [
    "# login program and indentation\n",
    "\n",
    "user_email = input(\"Enter the username: \")\n",
    "user_password = int(input(\"Enter the password: \"))\n",
    "\n",
    "email = 'nitish.campusx@gmail.com'\n",
    "password = 1234\n",
    "\n",
    "if user_email == email and user_password == password:\n",
    "    print(\"You have been logged in succesfully!\")\n",
    "elif user_email == email and user_password != password:\n",
    "    # inform the user\n",
    "    print(\"Incorrect password\")\n",
    "    user_password = int(input(\"Enter the password again\"))\n",
    "    if user_password == password:\n",
    "        print(\"Welcome, Finally!\")\n",
    "    else:\n",
    "        print(\"It's not your cup of tea\")\n",
    "else:\n",
    "    print(\"You have entered wrong credentials.Try again!\")"
   ]
  },
  {
   "cell_type": "code",
   "execution_count": 45,
   "id": "46a3a76c-f9de-47f8-91ff-6e3da6accf2e",
   "metadata": {},
   "outputs": [
    {
     "name": "stdin",
     "output_type": "stream",
     "text": [
      "Enter the first number:  1234\n",
      "Enter the second number:  123\n",
      "Enter the third number:  12\n"
     ]
    },
    {
     "name": "stdout",
     "output_type": "stream",
     "text": [
      "1234  is the greatest\n"
     ]
    }
   ],
   "source": [
    "# Maximum of 3 numbers\n",
    "\n",
    "num1 = int(input(\"Enter the first number: \"))\n",
    "num2 = int(input(\"Enter the second number: \"))\n",
    "num3 = int(input(\"Enter the third number: \"))\n",
    "\n",
    "if num1 >= num2 and num1 >= num3:\n",
    "    print(num1, \" is the greatest\")\n",
    "elif num2 >= num1 and num2 >= num3:\n",
    "    print(num2, \" is the greatest\")\n",
    "else:\n",
    "    print(num3, \" is the greatest\")"
   ]
  },
  {
   "cell_type": "code",
   "execution_count": 46,
   "id": "bb1efd62-484b-4962-8a0e-e146a7f8a50b",
   "metadata": {},
   "outputs": [
    {
     "name": "stdin",
     "output_type": "stream",
     "text": [
      "Enter the first number:  10\n",
      "Enter the second number:  20\n",
      "Enter the operation that needs to be performed:  /\n"
     ]
    },
    {
     "name": "stdout",
     "output_type": "stream",
     "text": [
      "0.5\n"
     ]
    }
   ],
   "source": [
    "# Menu driven program\n",
    "\n",
    "f_num = int(input(\"Enter the first number: \"))\n",
    "s_num = int(input(\"Enter the second number: \"))\n",
    "\n",
    "operation = input(\"Enter the operation that needs to be performed: \")\n",
    "\n",
    "if operation == '+':\n",
    "    print(f_num + s_num)\n",
    "elif operation == '-':\n",
    "    print(f_num - s_num)\n",
    "elif operation == '*':\n",
    "    print(f_num * s_num)\n",
    "elif operation == '/':\n",
    "    print(f_num / s_num)\n",
    "else:\n",
    "    print(\"Enter the correct operation that needs to be performed!\")"
   ]
  },
  {
   "cell_type": "markdown",
   "id": "420b8c50-e0c4-45ad-91b1-80649a523037",
   "metadata": {},
   "source": [
    "## Modules\n",
    "\n",
    "- math\n",
    "- keywords\n",
    "- constant\n",
    "- datetime"
   ]
  },
  {
   "cell_type": "code",
   "execution_count": 50,
   "id": "18f3f625-a194-4a5c-afa8-e7919dff8d45",
   "metadata": {},
   "outputs": [
    {
     "name": "stdout",
     "output_type": "stream",
     "text": [
      "120\n",
      "6\n"
     ]
    }
   ],
   "source": [
    "# math\n",
    "import math\n",
    "\n",
    "print(math.factorial(5))\n",
    "print(math.floor(6.9))"
   ]
  },
  {
   "cell_type": "code",
   "execution_count": 54,
   "id": "362a7798-9cc7-4203-9f80-c9ba0a3cea31",
   "metadata": {},
   "outputs": [
    {
     "name": "stdout",
     "output_type": "stream",
     "text": [
      "['False', 'None', 'True', 'and', 'as', 'assert', 'async', 'await', 'break', 'class', 'continue', 'def', 'del', 'elif', 'else', 'except', 'finally', 'for', 'from', 'global', 'if', 'import', 'in', 'is', 'lambda', 'nonlocal', 'not', 'or', 'pass', 'raise', 'return', 'try', 'while', 'with', 'yield']\n"
     ]
    }
   ],
   "source": [
    "# keywords\n",
    "import keyword\n",
    "\n",
    "print(keyword.kwlist)"
   ]
  },
  {
   "cell_type": "code",
   "execution_count": 57,
   "id": "1ae15d17-a40c-4480-8c81-81af6e1670dd",
   "metadata": {},
   "outputs": [
    {
     "name": "stdout",
     "output_type": "stream",
     "text": [
      "80\n"
     ]
    }
   ],
   "source": [
    "# random\n",
    "import random\n",
    "\n",
    "print(random.randint(1, 100))"
   ]
  },
  {
   "cell_type": "code",
   "execution_count": 58,
   "id": "88b7b0fe-243b-4321-8e9b-77ad54d9b8aa",
   "metadata": {},
   "outputs": [
    {
     "name": "stdout",
     "output_type": "stream",
     "text": [
      "2024-03-28 00:59:45.551969\n"
     ]
    }
   ],
   "source": [
    "# datetime\n",
    "import datetime\n",
    "\n",
    "print(datetime.datetime.now())"
   ]
  },
  {
   "cell_type": "code",
   "execution_count": 60,
   "id": "35d33da6-e370-4f83-a997-f06317ef19fd",
   "metadata": {},
   "outputs": [],
   "source": [
    "# help('modules')"
   ]
  },
  {
   "cell_type": "markdown",
   "id": "dc5371db-f5e1-44c5-a539-37fbb6ecec84",
   "metadata": {},
   "source": [
    "## Loops \n",
    "\n",
    "- While\n",
    "- For"
   ]
  },
  {
   "cell_type": "code",
   "execution_count": 63,
   "id": "cb0a694f-a5ce-4cb1-8fda-093db14696cc",
   "metadata": {},
   "outputs": [
    {
     "name": "stdin",
     "output_type": "stream",
     "text": [
      "Enter the number:  12\n"
     ]
    },
    {
     "name": "stdout",
     "output_type": "stream",
     "text": [
      "12  *  1  =  12\n",
      "12  *  2  =  24\n",
      "12  *  3  =  36\n",
      "12  *  4  =  48\n",
      "12  *  5  =  60\n",
      "12  *  6  =  72\n",
      "12  *  7  =  84\n",
      "12  *  8  =  96\n",
      "12  *  9  =  108\n",
      "12  *  10  =  120\n"
     ]
    }
   ],
   "source": [
    "# while loop example\n",
    "# program to print the table\n",
    "# visualise it using debugger\n",
    "\n",
    "number = int(input(\"Enter the number: \"))\n",
    "\n",
    "i = 1\n",
    "while i <= 10:\n",
    "    print(number, ' * ', i, ' = ', number * i)\n",
    "    i += 1"
   ]
  },
  {
   "cell_type": "code",
   "execution_count": 64,
   "id": "093e5692-52b4-4172-b18c-dce5c606321c",
   "metadata": {},
   "outputs": [
    {
     "name": "stdout",
     "output_type": "stream",
     "text": [
      "1\n",
      "2\n",
      "Limit Crossed\n"
     ]
    }
   ],
   "source": [
    "# while loop with else\n",
    "\n",
    "x = 1\n",
    "\n",
    "while x < 3:\n",
    "    print(x)\n",
    "    x += 1\n",
    "else:\n",
    "    print('Limit Crossed')"
   ]
  },
  {
   "cell_type": "code",
   "execution_count": 65,
   "id": "dfb573b0-8291-4e5c-ad04-94e37d9ed2a2",
   "metadata": {},
   "outputs": [
    {
     "name": "stdin",
     "output_type": "stream",
     "text": [
      "Guess the number 12\n"
     ]
    },
    {
     "name": "stdout",
     "output_type": "stream",
     "text": [
      "Wrong! Guess higher\n"
     ]
    },
    {
     "name": "stdin",
     "output_type": "stream",
     "text": [
      "Guess the number 50\n"
     ]
    },
    {
     "name": "stdout",
     "output_type": "stream",
     "text": [
      "Wrong! Guess lower\n"
     ]
    },
    {
     "name": "stdin",
     "output_type": "stream",
     "text": [
      "Guess the number 40\n"
     ]
    },
    {
     "name": "stdout",
     "output_type": "stream",
     "text": [
      "Wrong! Guess lower\n"
     ]
    },
    {
     "name": "stdin",
     "output_type": "stream",
     "text": [
      "Guess the number 30\n"
     ]
    },
    {
     "name": "stdout",
     "output_type": "stream",
     "text": [
      "Wrong! Guess lower\n"
     ]
    },
    {
     "name": "stdin",
     "output_type": "stream",
     "text": [
      "Guess the number 20\n"
     ]
    },
    {
     "name": "stdout",
     "output_type": "stream",
     "text": [
      "Wrong! Guess lower\n"
     ]
    },
    {
     "name": "stdin",
     "output_type": "stream",
     "text": [
      "Guess the number 10\n"
     ]
    },
    {
     "name": "stdout",
     "output_type": "stream",
     "text": [
      "Wrong! Guess higher\n"
     ]
    },
    {
     "name": "stdin",
     "output_type": "stream",
     "text": [
      "Guess the number 15\n"
     ]
    },
    {
     "name": "stdout",
     "output_type": "stream",
     "text": [
      "Wrong! Guess higher\n"
     ]
    },
    {
     "name": "stdin",
     "output_type": "stream",
     "text": [
      "Guess the number 17\n"
     ]
    },
    {
     "name": "stdout",
     "output_type": "stream",
     "text": [
      "Wrong! Guess lower\n"
     ]
    },
    {
     "name": "stdin",
     "output_type": "stream",
     "text": [
      "Guess the number 16\n"
     ]
    },
    {
     "name": "stdout",
     "output_type": "stream",
     "text": [
      "Congratulations! Correct Guess\n",
      "Attempts =  9\n"
     ]
    }
   ],
   "source": [
    "# Guessing game\n",
    "\n",
    "# Generate random integer between 1 and 100\n",
    "import random\n",
    "jackpot = random.randint(1, 100)\n",
    "\n",
    "guess = int(input(\"Guess the number: \"))\n",
    "\n",
    "counter = 1\n",
    "while guess != jackpot:\n",
    "    if guess < jackpot:\n",
    "        print(\"Wrong! Guess higher\")\n",
    "    else:\n",
    "        print(\"Wrong! Guess lower\")\n",
    "    guess = int(input(\"Guess the number\"))\n",
    "    counter += 1\n",
    "else:\n",
    "    print(\"Congratulations! Correct Guess\")\n",
    "    print(\"Attempts = \", counter)"
   ]
  },
  {
   "cell_type": "code",
   "execution_count": 66,
   "id": "d57f12e9-c3ca-4305-a02a-052f70dd1a13",
   "metadata": {},
   "outputs": [
    {
     "name": "stdout",
     "output_type": "stream",
     "text": [
      "1\n",
      "2\n",
      "3\n",
      "4\n",
      "5\n",
      "6\n",
      "7\n",
      "8\n",
      "9\n",
      "10\n"
     ]
    }
   ],
   "source": [
    "# for loop\n",
    "\n",
    "for i in range(1, 11):\n",
    "    print(i)"
   ]
  },
  {
   "cell_type": "code",
   "execution_count": 67,
   "id": "302c24f1-3583-4f87-9824-acfb3555b34f",
   "metadata": {},
   "outputs": [
    {
     "name": "stdout",
     "output_type": "stream",
     "text": [
      "1\n",
      "3\n",
      "5\n",
      "7\n",
      "9\n"
     ]
    }
   ],
   "source": [
    "for i in range(1, 11, 2):\n",
    "    print(i)"
   ]
  },
  {
   "cell_type": "code",
   "execution_count": 68,
   "id": "325f699f-d23d-4da8-b222-7c23aa3b09d9",
   "metadata": {},
   "outputs": [
    {
     "name": "stdout",
     "output_type": "stream",
     "text": [
      "10\n",
      "9\n",
      "8\n",
      "7\n",
      "6\n",
      "5\n",
      "4\n",
      "3\n",
      "2\n",
      "1\n"
     ]
    }
   ],
   "source": [
    "for i in range(10, 0, -1):\n",
    "    print(i)"
   ]
  },
  {
   "cell_type": "code",
   "execution_count": 70,
   "id": "5fba05a6-b187-46c2-b144-337c7ea4f18b",
   "metadata": {},
   "outputs": [
    {
     "name": "stdout",
     "output_type": "stream",
     "text": [
      "10 10000\n",
      "9 9000.0\n",
      "8 8100.0\n",
      "7 7290.0\n",
      "6 6561.0\n",
      "5 5904.9\n",
      "4 5314.41\n",
      "3 4782.969\n",
      "2 4304.6721\n",
      "1 3874.20489\n"
     ]
    }
   ],
   "source": [
    "current_population = 10000\n",
    "\n",
    "for i in range(10, 0, -1):\n",
    "    print(i, current_population)\n",
    "    current_population = current_population - 0.1 * current_population"
   ]
  },
  {
   "cell_type": "code",
   "execution_count": null,
   "id": "1a12949b-40df-46eb-8c29-adc4c5d0a8c2",
   "metadata": {},
   "outputs": [],
   "source": []
  }
 ],
 "metadata": {
  "kernelspec": {
   "display_name": "Python 3 (ipykernel)",
   "language": "python",
   "name": "python3"
  },
  "language_info": {
   "codemirror_mode": {
    "name": "ipython",
    "version": 3
   },
   "file_extension": ".py",
   "mimetype": "text/x-python",
   "name": "python",
   "nbconvert_exporter": "python",
   "pygments_lexer": "ipython3",
   "version": "3.12.2"
  }
 },
 "nbformat": 4,
 "nbformat_minor": 5
}
