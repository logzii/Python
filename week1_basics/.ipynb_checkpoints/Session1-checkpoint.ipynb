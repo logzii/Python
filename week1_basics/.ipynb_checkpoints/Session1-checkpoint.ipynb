{
 "cells": [
  {
   "cell_type": "markdown",
   "id": "66426216-2054-4ca5-b498-40e676f6b245",
   "metadata": {},
   "source": [
    "## 1. Python Output"
   ]
  },
  {
   "cell_type": "code",
   "execution_count": 3,
   "id": "0cae6231-775d-45a8-a7c3-86a8e203c949",
   "metadata": {},
   "outputs": [
    {
     "name": "stdout",
     "output_type": "stream",
     "text": [
      "Hello, World!\n"
     ]
    }
   ],
   "source": [
    "# python is a case sensitive language\n",
    "print(\"Hello, World!\")"
   ]
  },
  {
   "cell_type": "code",
   "execution_count": 4,
   "id": "b4b9a0ff-8a27-440e-ba83-c9d42a127393",
   "metadata": {},
   "outputs": [
    {
     "name": "stdout",
     "output_type": "stream",
     "text": [
      "python\n"
     ]
    }
   ],
   "source": [
    "print('python')"
   ]
  },
  {
   "cell_type": "code",
   "execution_count": 5,
   "id": "010bb6f2-65f6-4e24-95ad-8a51e4ce053b",
   "metadata": {},
   "outputs": [
    {
     "ename": "NameError",
     "evalue": "name 'python' is not defined",
     "output_type": "error",
     "traceback": [
      "\u001b[0;31m---------------------------------------------------------------------------\u001b[0m",
      "\u001b[0;31mNameError\u001b[0m                                 Traceback (most recent call last)",
      "Cell \u001b[0;32mIn[5], line 1\u001b[0m\n\u001b[0;32m----> 1\u001b[0m \u001b[38;5;28mprint\u001b[39m(\u001b[43mpython\u001b[49m)\n",
      "\u001b[0;31mNameError\u001b[0m: name 'python' is not defined"
     ]
    }
   ],
   "source": [
    "print(python)"
   ]
  },
  {
   "cell_type": "code",
   "execution_count": 6,
   "id": "d57d3b8e-e7b9-4991-b986-9316ef3d4c56",
   "metadata": {},
   "outputs": [
    {
     "name": "stdout",
     "output_type": "stream",
     "text": [
      "7\n"
     ]
    }
   ],
   "source": [
    "print(7)"
   ]
  },
  {
   "cell_type": "code",
   "execution_count": 7,
   "id": "fa3812d6-f5de-4fad-8ae6-fa7150c9c53a",
   "metadata": {},
   "outputs": [
    {
     "name": "stdout",
     "output_type": "stream",
     "text": [
      "7.32\n"
     ]
    }
   ],
   "source": [
    "print(7.32)"
   ]
  },
  {
   "cell_type": "code",
   "execution_count": 8,
   "id": "12cb3f9e-52e6-4313-97ef-609e68c20730",
   "metadata": {},
   "outputs": [
    {
     "name": "stdout",
     "output_type": "stream",
     "text": [
      "True\n"
     ]
    }
   ],
   "source": [
    "print(True)"
   ]
  },
  {
   "cell_type": "code",
   "execution_count": 9,
   "id": "a6c7bbed-03ec-405d-9227-0666fc50accc",
   "metadata": {},
   "outputs": [
    {
     "name": "stdout",
     "output_type": "stream",
     "text": [
      "False\n"
     ]
    }
   ],
   "source": [
    "print(False)"
   ]
  },
  {
   "cell_type": "code",
   "execution_count": 10,
   "id": "40aa3544-55ff-476e-a43f-6fb999850f24",
   "metadata": {},
   "outputs": [
    {
     "name": "stdout",
     "output_type": "stream",
     "text": [
      "Hello 1 4.5 True\n"
     ]
    }
   ],
   "source": [
    "print(\"Hello\", 1, 4.5, True)"
   ]
  },
  {
   "cell_type": "code",
   "execution_count": 11,
   "id": "d7209303-943d-4105-8352-a28449382ba8",
   "metadata": {},
   "outputs": [
    {
     "name": "stdout",
     "output_type": "stream",
     "text": [
      "Hello/1/4.5/True\n"
     ]
    }
   ],
   "source": [
    "# built in function (shift + tab)\n",
    "print(\"Hello\", 1, 4.5, True, sep='/')"
   ]
  },
  {
   "cell_type": "code",
   "execution_count": 12,
   "id": "ee327e99-c4bd-4484-bd3c-2fc706ffe0d1",
   "metadata": {},
   "outputs": [
    {
     "name": "stdout",
     "output_type": "stream",
     "text": [
      "hello\n",
      "world\n"
     ]
    }
   ],
   "source": [
    "print('hello')\n",
    "print('world')"
   ]
  },
  {
   "cell_type": "code",
   "execution_count": 13,
   "id": "f7ca2fb5-9abc-44f7-bf5f-5c4a49b1e59f",
   "metadata": {},
   "outputs": [
    {
     "name": "stdout",
     "output_type": "stream",
     "text": [
      "hello-world\n"
     ]
    }
   ],
   "source": [
    "print('hello', end='-')\n",
    "print('world')"
   ]
  },
  {
   "cell_type": "markdown",
   "id": "1af57c8e-49dd-405c-b53a-4c21113773fd",
   "metadata": {},
   "source": [
    "## 2. Data Types"
   ]
  },
  {
   "cell_type": "code",
   "execution_count": 14,
   "id": "3d6ab75a-2bc1-4b03-9106-c59fd646f858",
   "metadata": {},
   "outputs": [
    {
     "name": "stdout",
     "output_type": "stream",
     "text": [
      "8\n"
     ]
    }
   ],
   "source": [
    "# Integer\n",
    "print(8)"
   ]
  },
  {
   "cell_type": "code",
   "execution_count": 16,
   "id": "984fc066-bb69-46c7-8d4e-013584e75b7d",
   "metadata": {},
   "outputs": [
    {
     "name": "stdout",
     "output_type": "stream",
     "text": [
      "inf\n",
      "1e+308\n"
     ]
    }
   ],
   "source": [
    "print(1e309)\n",
    "# 1 * 10^(309)\n",
    "print(1e308)"
   ]
  },
  {
   "cell_type": "code",
   "execution_count": 17,
   "id": "04d40543-9b3e-4165-8066-7a80bfa9a8bb",
   "metadata": {},
   "outputs": [
    {
     "name": "stdout",
     "output_type": "stream",
     "text": [
      "8.55\n"
     ]
    }
   ],
   "source": [
    "# Decimal/float\n",
    "print(8.55)"
   ]
  },
  {
   "cell_type": "code",
   "execution_count": 18,
   "id": "2323476e-8e52-4f66-80e2-b9836f6a9462",
   "metadata": {},
   "outputs": [
    {
     "name": "stdout",
     "output_type": "stream",
     "text": [
      "True\n",
      "False\n"
     ]
    }
   ],
   "source": [
    "# Boolean\n",
    "print(True)\n",
    "print(False)"
   ]
  },
  {
   "cell_type": "code",
   "execution_count": 19,
   "id": "578320dc-2f78-4ff0-b182-54b92f10bdf6",
   "metadata": {},
   "outputs": [
    {
     "name": "stdout",
     "output_type": "stream",
     "text": [
      "Hello World!\n"
     ]
    }
   ],
   "source": [
    "# Text/String\n",
    "print('Hello World!')"
   ]
  },
  {
   "cell_type": "code",
   "execution_count": 20,
   "id": "8bcebe1f-74a7-4787-ba72-87df8586fb7b",
   "metadata": {},
   "outputs": [
    {
     "name": "stdout",
     "output_type": "stream",
     "text": [
      "(5+6j)\n"
     ]
    }
   ],
   "source": [
    "# complex \n",
    "print(5 + 6j)"
   ]
  },
  {
   "cell_type": "code",
   "execution_count": 21,
   "id": "3d6e944c-1be9-416d-84c7-138a554c931d",
   "metadata": {},
   "outputs": [
    {
     "name": "stdout",
     "output_type": "stream",
     "text": [
      "[1, 2, 3, 4, 5]\n"
     ]
    }
   ],
   "source": [
    "# list \n",
    "print([1,2,3,4,5])"
   ]
  },
  {
   "cell_type": "code",
   "execution_count": 22,
   "id": "636fbda6-a629-4b25-8618-670fba190f36",
   "metadata": {},
   "outputs": [
    {
     "name": "stdout",
     "output_type": "stream",
     "text": [
      "(1, 2, 3, 4, 5)\n"
     ]
    }
   ],
   "source": [
    "# tuple\n",
    "print((1,2,3,4,5))"
   ]
  },
  {
   "cell_type": "code",
   "execution_count": 23,
   "id": "be4900c4-7a6e-418a-9769-e96afcc4ded1",
   "metadata": {},
   "outputs": [
    {
     "name": "stdout",
     "output_type": "stream",
     "text": [
      "{1, 2, 3, 4, 5}\n"
     ]
    }
   ],
   "source": [
    "# set\n",
    "print({1,2,3,4,5})"
   ]
  },
  {
   "cell_type": "code",
   "execution_count": 25,
   "id": "8af043e2-48de-4315-8231-54a292e3de7e",
   "metadata": {},
   "outputs": [
    {
     "name": "stdout",
     "output_type": "stream",
     "text": [
      "{'name': 'Nitish', 'gender': 'Male', 'weight': 70}\n"
     ]
    }
   ],
   "source": [
    "# dictionary\n",
    "print({'name':'Nitish', 'gender':'Male', 'weight': 70})"
   ]
  },
  {
   "cell_type": "code",
   "execution_count": 26,
   "id": "72ea2043-452a-4d02-8170-9a0a803b1cf3",
   "metadata": {},
   "outputs": [
    {
     "data": {
      "text/plain": [
       "int"
      ]
     },
     "execution_count": 26,
     "metadata": {},
     "output_type": "execute_result"
    }
   ],
   "source": [
    "type(3)"
   ]
  },
  {
   "cell_type": "code",
   "execution_count": 27,
   "id": "4d1ba025-e3ff-4bcd-a7ad-643421b7dbd0",
   "metadata": {},
   "outputs": [
    {
     "data": {
      "text/plain": [
       "float"
      ]
     },
     "execution_count": 27,
     "metadata": {},
     "output_type": "execute_result"
    }
   ],
   "source": [
    "type(3.5)"
   ]
  },
  {
   "cell_type": "code",
   "execution_count": 28,
   "id": "2539fb01-3e3f-4392-8a00-8617e97d4cbe",
   "metadata": {},
   "outputs": [
    {
     "data": {
      "text/plain": [
       "complex"
      ]
     },
     "execution_count": 28,
     "metadata": {},
     "output_type": "execute_result"
    }
   ],
   "source": [
    "type(3 + 4j)"
   ]
  },
  {
   "cell_type": "code",
   "execution_count": 29,
   "id": "1ca88b18-2b57-4403-aea8-c802d827f688",
   "metadata": {},
   "outputs": [
    {
     "data": {
      "text/plain": [
       "list"
      ]
     },
     "execution_count": 29,
     "metadata": {},
     "output_type": "execute_result"
    }
   ],
   "source": [
    "type([1,2,3])"
   ]
  },
  {
   "cell_type": "code",
   "execution_count": 30,
   "id": "97341fe4-16ed-416a-92bd-afe2f20d0ef3",
   "metadata": {},
   "outputs": [
    {
     "data": {
      "text/plain": [
       "tuple"
      ]
     },
     "execution_count": 30,
     "metadata": {},
     "output_type": "execute_result"
    }
   ],
   "source": [
    "type((1,2,3,4))"
   ]
  },
  {
   "cell_type": "markdown",
   "id": "dc46fe06-02bc-4871-a2a5-d69caddf54c3",
   "metadata": {},
   "source": [
    "## 3. Variables"
   ]
  },
  {
   "cell_type": "code",
   "execution_count": 32,
   "id": "5bde2b58-156f-4218-bc0d-7ce9f1c95423",
   "metadata": {},
   "outputs": [
    {
     "name": "stdout",
     "output_type": "stream",
     "text": [
      "nitish\n",
      "11\n"
     ]
    }
   ],
   "source": [
    "name = 'nitish'\n",
    "print(name)\n",
    "\n",
    "a = 5\n",
    "b = 6\n",
    "print(a + b)"
   ]
  },
  {
   "cell_type": "code",
   "execution_count": 34,
   "id": "46deb520-cee6-4187-ae2a-ca4e473cd4bd",
   "metadata": {},
   "outputs": [],
   "source": [
    "# dynamic typing\n",
    "a = 5"
   ]
  },
  {
   "cell_type": "code",
   "execution_count": 35,
   "id": "cdaf247c-cdc4-4194-aeaa-df8895e91336",
   "metadata": {},
   "outputs": [],
   "source": [
    "# static typing\n",
    "# int a = 5"
   ]
  },
  {
   "cell_type": "code",
   "execution_count": 36,
   "id": "182ccae9-cf50-443b-b64d-173f2656679f",
   "metadata": {},
   "outputs": [
    {
     "name": "stdout",
     "output_type": "stream",
     "text": [
      "5\n",
      "nitish\n"
     ]
    }
   ],
   "source": [
    "# dynamic binding\n",
    "a = 5\n",
    "print(a)\n",
    "a = 'nitish'\n",
    "print(a)"
   ]
  },
  {
   "cell_type": "code",
   "execution_count": 37,
   "id": "b9f01c9f-05c1-4616-9827-f30f222ea556",
   "metadata": {},
   "outputs": [],
   "source": [
    "# static binding \n",
    "# int a = 5\n",
    "# a = 32"
   ]
  },
  {
   "cell_type": "code",
   "execution_count": 38,
   "id": "e42fe701-8758-4005-92b1-013885f539cb",
   "metadata": {},
   "outputs": [
    {
     "name": "stdout",
     "output_type": "stream",
     "text": [
      "1 2 3\n"
     ]
    }
   ],
   "source": [
    "a = 1\n",
    "b = 2\n",
    "c = 3\n",
    "print(a, b, c)"
   ]
  },
  {
   "cell_type": "code",
   "execution_count": 39,
   "id": "8541dfa2-f3b5-49c4-b5e0-53f1aee63b5c",
   "metadata": {},
   "outputs": [
    {
     "name": "stdout",
     "output_type": "stream",
     "text": [
      "1 2 3\n"
     ]
    }
   ],
   "source": [
    "a,b,c = 1,2,3\n",
    "print(a, b, c)"
   ]
  },
  {
   "cell_type": "code",
   "execution_count": 40,
   "id": "d533e823-ec5c-4d1c-ba15-bc309bd217da",
   "metadata": {},
   "outputs": [
    {
     "name": "stdout",
     "output_type": "stream",
     "text": [
      "5 5 5\n"
     ]
    }
   ],
   "source": [
    "a = b = c = 5\n",
    "print(a, b, c)"
   ]
  },
  {
   "cell_type": "markdown",
   "id": "5e6b1d54-410b-4208-ad49-230ea8d9a2b0",
   "metadata": {},
   "source": [
    "## Comments"
   ]
  },
  {
   "cell_type": "code",
   "execution_count": 42,
   "id": "dbf5295a-93e4-49e3-a6c5-59312e56f17e",
   "metadata": {},
   "outputs": [
    {
     "name": "stdout",
     "output_type": "stream",
     "text": [
      "11\n"
     ]
    }
   ],
   "source": [
    "# this is a comment\n",
    "# second line\n",
    "a = 5\n",
    "b = 6\n",
    "# second comment\n",
    "print(a + b) # i can comment like this as well"
   ]
  },
  {
   "cell_type": "markdown",
   "id": "48151598-c914-4c7d-831a-e087fca7e6b8",
   "metadata": {},
   "source": [
    "## 4. Keywords and Identifiers"
   ]
  },
  {
   "cell_type": "code",
   "execution_count": 43,
   "id": "34424f01-cd9d-4c69-89ed-198820a35fa4",
   "metadata": {},
   "outputs": [],
   "source": [
    "# Keywords"
   ]
  },
  {
   "cell_type": "code",
   "execution_count": 45,
   "id": "eb75e105-36d1-44a2-865d-16ba82eff9bc",
   "metadata": {},
   "outputs": [],
   "source": [
    "# Identifier \n",
    "# You cant start with a digit but vice versa is true\n",
    "# You can use special chars (_ => underscore)\n",
    "# it cannot be keywords"
   ]
  },
  {
   "cell_type": "markdown",
   "id": "6d1ef309-b435-413e-a079-85bbdae3f1e5",
   "metadata": {},
   "source": [
    "## 5. User Input"
   ]
  },
  {
   "cell_type": "code",
   "execution_count": 46,
   "id": "4f1c8e73-72bd-48fe-8b20-2bcf04c19c1b",
   "metadata": {},
   "outputs": [
    {
     "name": "stdin",
     "output_type": "stream",
     "text": [
      " hi\n"
     ]
    },
    {
     "data": {
      "text/plain": [
       "'hi'"
      ]
     },
     "execution_count": 46,
     "metadata": {},
     "output_type": "execute_result"
    }
   ],
   "source": [
    "input()"
   ]
  },
  {
   "cell_type": "code",
   "execution_count": 47,
   "id": "3a283190-8fd6-46b3-9ae9-963d75f840cf",
   "metadata": {},
   "outputs": [
    {
     "name": "stdin",
     "output_type": "stream",
     "text": [
      "What is your name? hello\n"
     ]
    },
    {
     "data": {
      "text/plain": [
       "'hello'"
      ]
     },
     "execution_count": 47,
     "metadata": {},
     "output_type": "execute_result"
    }
   ],
   "source": [
    "input('What is your name?')"
   ]
  },
  {
   "cell_type": "code",
   "execution_count": 48,
   "id": "aa91242a-2e0d-454f-9d9d-d00b9ac90b92",
   "metadata": {},
   "outputs": [
    {
     "name": "stdin",
     "output_type": "stream",
     "text": [
      "Enter the first number 12\n",
      "Enter the second number 6\n"
     ]
    },
    {
     "name": "stdout",
     "output_type": "stream",
     "text": [
      "18\n"
     ]
    }
   ],
   "source": [
    "# take input from the users and store them in variable\n",
    "num1 = int(input(\"Enter the first number\"))\n",
    "num2 = int(input(\"Enter the second number\"))\n",
    "\n",
    "# add the 2 variables\n",
    "sum = num1 + num2\n",
    "\n",
    "# print the result\n",
    "print(sum)"
   ]
  },
  {
   "cell_type": "markdown",
   "id": "10aecf64-01ac-483a-928c-533cfffa2fa8",
   "metadata": {},
   "source": [
    "## 6. Type Conversion"
   ]
  },
  {
   "cell_type": "code",
   "execution_count": 50,
   "id": "bd7a46fb-35a5-40a3-9c0b-1220492ef3ae",
   "metadata": {},
   "outputs": [
    {
     "name": "stdout",
     "output_type": "stream",
     "text": [
      "10.6\n"
     ]
    }
   ],
   "source": [
    "print(5 + 5.6) # implicit"
   ]
  },
  {
   "cell_type": "code",
   "execution_count": 51,
   "id": "64004dc9-4a87-42ff-8b5c-cfac5a3c94e6",
   "metadata": {},
   "outputs": [
    {
     "ename": "TypeError",
     "evalue": "unsupported operand type(s) for +: 'int' and 'str'",
     "output_type": "error",
     "traceback": [
      "\u001b[0;31m---------------------------------------------------------------------------\u001b[0m",
      "\u001b[0;31mTypeError\u001b[0m                                 Traceback (most recent call last)",
      "Cell \u001b[0;32mIn[51], line 1\u001b[0m\n\u001b[0;32m----> 1\u001b[0m \u001b[38;5;28mprint\u001b[39m(\u001b[38;5;241;43m4\u001b[39;49m\u001b[43m \u001b[49m\u001b[38;5;241;43m+\u001b[39;49m\u001b[43m \u001b[49m\u001b[38;5;124;43m'\u001b[39;49m\u001b[38;5;124;43m4\u001b[39;49m\u001b[38;5;124;43m'\u001b[39;49m)\n",
      "\u001b[0;31mTypeError\u001b[0m: unsupported operand type(s) for +: 'int' and 'str'"
     ]
    }
   ],
   "source": [
    "print(4 + '4')"
   ]
  },
  {
   "cell_type": "code",
   "execution_count": 58,
   "id": "0a190552-88a7-42f4-8328-7e6fe47485f6",
   "metadata": {},
   "outputs": [
    {
     "data": {
      "text/plain": [
       "5.0"
      ]
     },
     "execution_count": 58,
     "metadata": {},
     "output_type": "execute_result"
    }
   ],
   "source": [
    "# explicit\n",
    "# str -> int\n",
    "type(int('4'))\n",
    "int(4.5)\n",
    "\n",
    "# int to str\n",
    "str(5)\n",
    "\n",
    "# float \n",
    "float(5)"
   ]
  },
  {
   "cell_type": "markdown",
   "id": "7599b8fa-3763-45ba-a58f-888c368472b7",
   "metadata": {},
   "source": [
    "## 7. Literals"
   ]
  },
  {
   "cell_type": "code",
   "execution_count": 62,
   "id": "fac4d1a7-cdaf-4993-a54f-7480d0d0c6b0",
   "metadata": {},
   "outputs": [
    {
     "name": "stdout",
     "output_type": "stream",
     "text": [
      "10 100 200 300\n",
      "1.5 150.0 0.0015\n",
      "3.14j 3.14 0.0\n"
     ]
    }
   ],
   "source": [
    "a = 0b1010 # binary literals\n",
    "b = 100 # decimal literals\n",
    "c = 0o310 # octal literals\n",
    "d = 0x12c # hexadecimal literal\n",
    "\n",
    "# float literal\n",
    "float_1 = 1.5\n",
    "float_2 = 1.5e2\n",
    "float_3 = 1.5e-3\n",
    "\n",
    "# complex literal\n",
    "x = 3.14j\n",
    "\n",
    "print(a, b, c, d)\n",
    "print(float_1, float_2, float_3)\n",
    "print(x, x.imag, x.real)"
   ]
  },
  {
   "cell_type": "code",
   "execution_count": 64,
   "id": "465a371c-f696-4d81-8719-937e8550078b",
   "metadata": {},
   "outputs": [
    {
     "name": "stdout",
     "output_type": "stream",
     "text": [
      "This is Python\n",
      "this is python\n",
      "C\n",
      "THis is a multiline string with more than one line code.\n",
      "😀😆🤣\n",
      "raw \\n string\n"
     ]
    }
   ],
   "source": [
    "string = 'This is Python'\n",
    "strings = \"this is python\"\n",
    "char = \"C\"\n",
    "multiline_str = \"\"\"THis is a multiline string with more than one line code.\"\"\"\n",
    "unicode = u\"\\U0001f600\\U0001F606\\U0001F923\"\n",
    "raw_str = r\"raw \\n string\"\n",
    "\n",
    "print(string)\n",
    "print(strings)\n",
    "print(char)\n",
    "print(multiline_str)\n",
    "print(unicode)\n",
    "print(raw_str)"
   ]
  },
  {
   "cell_type": "code",
   "execution_count": 65,
   "id": "220da5c5-8691-42d9-82c2-c4fbe2366294",
   "metadata": {},
   "outputs": [
    {
     "name": "stdout",
     "output_type": "stream",
     "text": [
      "a: 5\n",
      "b: 10\n"
     ]
    }
   ],
   "source": [
    "a = True + 4\n",
    "b = False + 10\n",
    "\n",
    "print(\"a:\", a)\n",
    "print(\"b:\", b)"
   ]
  },
  {
   "cell_type": "code",
   "execution_count": 67,
   "id": "aac8ece4-ba27-41e9-b0e0-3f1976ff0930",
   "metadata": {},
   "outputs": [
    {
     "ename": "NameError",
     "evalue": "name 'k' is not defined",
     "output_type": "error",
     "traceback": [
      "\u001b[0;31m---------------------------------------------------------------------------\u001b[0m",
      "\u001b[0;31mNameError\u001b[0m                                 Traceback (most recent call last)",
      "Cell \u001b[0;32mIn[67], line 1\u001b[0m\n\u001b[0;32m----> 1\u001b[0m \u001b[43mk\u001b[49m\n\u001b[1;32m      2\u001b[0m a \u001b[38;5;241m=\u001b[39m \u001b[38;5;241m5\u001b[39m\n\u001b[1;32m      3\u001b[0m b \u001b[38;5;241m=\u001b[39m \u001b[38;5;241m6\u001b[39m\n",
      "\u001b[0;31mNameError\u001b[0m: name 'k' is not defined"
     ]
    }
   ],
   "source": [
    "k # set k = None\n",
    "a = 5\n",
    "b = 6\n",
    "print('Program execution')"
   ]
  },
  {
   "cell_type": "code",
   "execution_count": null,
   "id": "bcd8d3ea-ef33-4e84-9e93-6fbc8a065b99",
   "metadata": {},
   "outputs": [],
   "source": []
  }
 ],
 "metadata": {
  "kernelspec": {
   "display_name": "Python 3 (ipykernel)",
   "language": "python",
   "name": "python3"
  },
  "language_info": {
   "codemirror_mode": {
    "name": "ipython",
    "version": 3
   },
   "file_extension": ".py",
   "mimetype": "text/x-python",
   "name": "python",
   "nbconvert_exporter": "python",
   "pygments_lexer": "ipython3",
   "version": "3.12.2"
  }
 },
 "nbformat": 4,
 "nbformat_minor": 5
}
